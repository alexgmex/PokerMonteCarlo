{
 "cells": [
  {
   "cell_type": "markdown",
   "id": "75e576c8",
   "metadata": {},
   "source": [
    "**Imports and Settings**"
   ]
  },
  {
   "cell_type": "code",
   "execution_count": null,
   "id": "1ab303e4",
   "metadata": {},
   "outputs": [],
   "source": [
    "import functions as f\n",
    "import numpy as np\n",
    "\n",
    "sims = 1000000\n",
    "player_count = 5"
   ]
  },
  {
   "cell_type": "markdown",
   "id": "700479d8",
   "metadata": {},
   "source": [
    "**Player Class**"
   ]
  },
  {
   "cell_type": "code",
   "execution_count": null,
   "id": "2d3c0690",
   "metadata": {},
   "outputs": [],
   "source": [
    "class Player:\n",
    "\n",
    "    def __init__(self, hand=None):\n",
    "        # Allow for preset hands\n",
    "        self.hand = hand if hand is not None else []\n",
    "        self.show_rank = 0\n",
    "        self.strength = []\n",
    "\n",
    "\n",
    "    def draw(self, deck):\n",
    "        # Draw 2 cards\n",
    "        self.hand.append(deck.pop())\n",
    "        self.hand.append(deck.pop())\n",
    "\n",
    "        # Return updated deck\n",
    "        return deck\n",
    "    \n",
    "\n",
    "    def evaluate(self, table):\n",
    "        # Make dicts arranged by ranks and suits\n",
    "        cards = table + self.hand\n",
    "        ranks = {}\n",
    "        suits = {}\n",
    "        for rank, suit in cards:\n",
    "            if rank not in ranks:\n",
    "                ranks[rank] = []\n",
    "            ranks[rank].append(suit)\n",
    "            if suit not in suits:\n",
    "                suits[suit] = []\n",
    "            suits[suit].append(rank)\n",
    "        \n",
    "        self.show_rank, self.strength = f.evaluate_hand(cards, ranks, suits)"
   ]
  },
  {
   "cell_type": "markdown",
   "id": "5a36e1ae",
   "metadata": {},
   "source": [
    "**All Hand Evaluation**"
   ]
  },
  {
   "cell_type": "code",
   "execution_count": null,
   "id": "2099bec1",
   "metadata": {},
   "outputs": [],
   "source": [
    "# Reset stat matrices\n",
    "us_app = np.zeros(13)\n",
    "us_win = np.zeros(13)\n",
    "s_app = np.zeros(13)\n",
    "s_win = np.zeros(13)\n",
    "\n",
    "for sim in range(sims):\n",
    "    # Reset Deck, Players, Table, and Showdown\n",
    "    deck = f.reset_deck()\n",
    "    players = [Player() for _ in range(player_count)]\n",
    "    table = []\n",
    "    showdown = {}\n",
    "\n",
    "    # Each Player Draws 2 Cards\n",
    "    for player in players:\n",
    "        deck = player.draw(deck)\n",
    "\n",
    "    # Draw 5 Table Cards\n",
    "    for _ in range(5):\n",
    "        table.append(deck.pop())\n",
    "\n",
    "    # Showdown Cards\n",
    "    winners = f.determine_winner(table, players)\n",
    "    f.print_winner(players, winners)\n",
    "\n",
    "    # Update Stats\n",
    "    us_app, us_win, s_app, s_win = f.update_stats(players, winners, us_app, us_win, s_app, s_win)\n",
    "    "
   ]
  },
  {
   "cell_type": "code",
   "execution_count": null,
   "id": "d2e6462c",
   "metadata": {},
   "outputs": [],
   "source": [
    "print(s_app)\n",
    "print(s_app/sims)"
   ]
  }
 ],
 "metadata": {
  "kernelspec": {
   "display_name": "Python 3",
   "language": "python",
   "name": "python3"
  },
  "language_info": {
   "codemirror_mode": {
    "name": "ipython",
    "version": 3
   },
   "file_extension": ".py",
   "mimetype": "text/x-python",
   "name": "python",
   "nbconvert_exporter": "python",
   "pygments_lexer": "ipython3",
   "version": "3.11.0"
  }
 },
 "nbformat": 4,
 "nbformat_minor": 5
}
