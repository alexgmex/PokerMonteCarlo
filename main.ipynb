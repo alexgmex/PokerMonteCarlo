{
 "cells": [
  {
   "cell_type": "markdown",
   "id": "75e576c8",
   "metadata": {},
   "source": [
    "**Imports and Settings**"
   ]
  },
  {
   "cell_type": "code",
   "execution_count": 10,
   "id": "1ab303e4",
   "metadata": {},
   "outputs": [],
   "source": [
    "import functions as f\n",
    "import numpy as np\n",
    "\n",
    "sims = 1000000\n",
    "player_count = 5"
   ]
  },
  {
   "cell_type": "markdown",
   "id": "700479d8",
   "metadata": {},
   "source": [
    "**Player Class**"
   ]
  },
  {
   "cell_type": "code",
   "execution_count": 11,
   "id": "2d3c0690",
   "metadata": {},
   "outputs": [],
   "source": [
    "class Player:\n",
    "\n",
    "    def __init__(self, hand=None):\n",
    "        # Allow for preset hands\n",
    "        self.hand = hand if hand is not None else []\n",
    "        self.show_rank = 0\n",
    "        self.strength = []\n",
    "\n",
    "\n",
    "    def draw(self, deck):\n",
    "        # Draw 2 cards\n",
    "        self.hand.append(deck.pop())\n",
    "        self.hand.append(deck.pop())\n",
    "\n",
    "        # Return updated deck\n",
    "        return deck\n",
    "    \n",
    "\n",
    "    def evaluate(self, table):\n",
    "        # Make dicts arranged by ranks and suits\n",
    "        cards = table + self.hand\n",
    "        ranks = {}\n",
    "        suits = {}\n",
    "        for rank, suit in cards:\n",
    "            if rank not in ranks:\n",
    "                ranks[rank] = []\n",
    "            ranks[rank].append(suit)\n",
    "            if suit not in suits:\n",
    "                suits[suit] = []\n",
    "            suits[suit].append(rank)\n",
    "        \n",
    "        self.show_rank, self.strength = f.evaluate_hand(cards, ranks, suits)"
   ]
  },
  {
   "cell_type": "markdown",
   "id": "5a36e1ae",
   "metadata": {},
   "source": [
    "**All Hand Evaluation**"
   ]
  },
  {
   "cell_type": "code",
   "execution_count": null,
   "id": "2099bec1",
   "metadata": {},
   "outputs": [
    {
     "name": "stdout",
     "output_type": "stream",
     "text": [
      "Player 0 Wins with a Two Pair, Aces over 4s with King Kicker\n"
     ]
    },
    {
     "ename": "IndexError",
     "evalue": "invalid index to scalar variable.",
     "output_type": "error",
     "traceback": [
      "\u001b[31m---------------------------------------------------------------------------\u001b[39m",
      "\u001b[31mIndexError\u001b[39m                                Traceback (most recent call last)",
      "\u001b[36mCell\u001b[39m\u001b[36m \u001b[39m\u001b[32mIn[12]\u001b[39m\u001b[32m, line 27\u001b[39m\n\u001b[32m     24\u001b[39m f.print_winner(players, winners)\n\u001b[32m     26\u001b[39m \u001b[38;5;66;03m# Update Stats\u001b[39;00m\n\u001b[32m---> \u001b[39m\u001b[32m27\u001b[39m us_app, us_win, s_app, s_win = \u001b[43mf\u001b[49m\u001b[43m.\u001b[49m\u001b[43mupdate_stats\u001b[49m\u001b[43m(\u001b[49m\u001b[43mplayers\u001b[49m\u001b[43m,\u001b[49m\u001b[43m \u001b[49m\u001b[43mwinners\u001b[49m\u001b[43m,\u001b[49m\u001b[43m \u001b[49m\u001b[43mus_app\u001b[49m\u001b[43m,\u001b[49m\u001b[43m \u001b[49m\u001b[43mus_win\u001b[49m\u001b[43m,\u001b[49m\u001b[43m \u001b[49m\u001b[43ms_app\u001b[49m\u001b[43m,\u001b[49m\u001b[43m \u001b[49m\u001b[43ms_win\u001b[49m\u001b[43m)\u001b[49m\n",
      "\u001b[36mFile \u001b[39m\u001b[32mc:\\Users\\mcdin\\OneDrive\\Desktop\\OneDrive - The University of Sydney (Students)\\Code Projects\\PokerMonteCarlo\\functions.py:199\u001b[39m, in \u001b[36mupdate_stats\u001b[39m\u001b[34m(players, winners, us_app, us_win, s_app, s_win)\u001b[39m\n\u001b[32m    197\u001b[39m     s_app[r][c] += \u001b[32m1\u001b[39m\n\u001b[32m    198\u001b[39m \u001b[38;5;28;01melse\u001b[39;00m: \n\u001b[32m--> \u001b[39m\u001b[32m199\u001b[39m     \u001b[43mus_app\u001b[49m\u001b[43m[\u001b[49m\u001b[43mr\u001b[49m\u001b[43m]\u001b[49m\u001b[43m[\u001b[49m\u001b[43mc\u001b[49m\u001b[43m]\u001b[49m += \u001b[32m1\u001b[39m\n\u001b[32m    201\u001b[39m \u001b[38;5;66;03m# Fill win matrices\u001b[39;00m\n\u001b[32m    202\u001b[39m \u001b[38;5;28;01mif\u001b[39;00m i \u001b[38;5;129;01min\u001b[39;00m winners:\n",
      "\u001b[31mIndexError\u001b[39m: invalid index to scalar variable."
     ]
    }
   ],
   "source": [
    "# Reset stat matrices\n",
    "us_app = np.zeros((13, 13), dtype=int)\n",
    "us_win = np.zeros((13, 13), dtype=int)\n",
    "s_app = np.zeros((13, 13), dtype=int)\n",
    "s_win = np.zeros((13, 13), dtype=int)\n",
    "\n",
    "for sim in range(sims):\n",
    "    # Reset Deck, Players, Table, and Showdown\n",
    "    deck = f.reset_deck()\n",
    "    players = [Player() for _ in range(player_count)]\n",
    "    table = []\n",
    "    showdown = {}\n",
    "\n",
    "    # Each Player Draws 2 Cards\n",
    "    for player in players:\n",
    "        deck = player.draw(deck)\n",
    "\n",
    "    # Draw 5 Table Cards\n",
    "    for _ in range(5):\n",
    "        table.append(deck.pop())\n",
    "\n",
    "    # Showdown Cards\n",
    "    winners = f.determine_winner(table, players)\n",
    "    f.print_winner(players, winners)\n",
    "\n",
    "    # Update Stats\n",
    "    us_app, us_win, s_app, s_win = f.update_stats(players, winners, us_app, us_win, s_app, s_win)\n",
    "    "
   ]
  },
  {
   "cell_type": "code",
   "execution_count": null,
   "id": "d2e6462c",
   "metadata": {},
   "outputs": [],
   "source": [
    "print(s_app)\n",
    "print(s_app/sims)"
   ]
  }
 ],
 "metadata": {
  "kernelspec": {
   "display_name": "Python 3",
   "language": "python",
   "name": "python3"
  },
  "language_info": {
   "codemirror_mode": {
    "name": "ipython",
    "version": 3
   },
   "file_extension": ".py",
   "mimetype": "text/x-python",
   "name": "python",
   "nbconvert_exporter": "python",
   "pygments_lexer": "ipython3",
   "version": "3.11.0"
  }
 },
 "nbformat": 4,
 "nbformat_minor": 5
}
